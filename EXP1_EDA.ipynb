{
  "nbformat": 4,
  "nbformat_minor": 0,
  "metadata": {
    "colab": {
      "provenance": [],
      "collapsed_sections": [],
      "include_colab_link": true
    },
    "kernelspec": {
      "name": "python3",
      "display_name": "Python 3"
    },
    "language_info": {
      "name": "python"
    }
  },
  "cells": [
    {
      "cell_type": "markdown",
      "metadata": {
        "id": "view-in-github",
        "colab_type": "text"
      },
      "source": [
        "<a href=\"https://colab.research.google.com/github/maitri-7/DaLab/blob/main/EXP1_EDA.ipynb\" target=\"_parent\"><img src=\"https://colab.research.google.com/assets/colab-badge.svg\" alt=\"Open In Colab\"/></a>"
      ]
    },
    {
      "cell_type": "code",
      "execution_count": null,
      "metadata": {
        "id": "HS289wkZMKjQ"
      },
      "outputs": [],
      "source": [
        "import pandas as pd\n",
        "import numpy as np\n",
        "import seaborn as sns\n",
        "import matplotlib.pyplot as plt\n",
        "sns.set_style('whitegrid')"
      ]
    },
    {
      "cell_type": "code",
      "source": [
        "df=pd.read_csv('https://raw.githubusercontent.com/maitri-7/DaLab/main/data/IT%20Salary%20Survey%20EU%20%202020.csv')"
      ],
      "metadata": {
        "id": "J8STKnEFQB4L"
      },
      "execution_count": null,
      "outputs": []
    },
    {
      "cell_type": "code",
      "source": [
        "df.info()"
      ],
      "metadata": {
        "colab": {
          "base_uri": "https://localhost:8080/"
        },
        "id": "d1o_j6_mQJa8",
        "outputId": "2e1c5a82-d3b6-47ef-cd6b-536dc9c68234"
      },
      "execution_count": null,
      "outputs": [
        {
          "output_type": "stream",
          "name": "stdout",
          "text": [
            "<class 'pandas.core.frame.DataFrame'>\n",
            "RangeIndex: 1253 entries, 0 to 1252\n",
            "Data columns (total 23 columns):\n",
            " #   Column                                                                                                                   Non-Null Count  Dtype  \n",
            "---  ------                                                                                                                   --------------  -----  \n",
            " 0   Timestamp                                                                                                                1253 non-null   object \n",
            " 1   Age                                                                                                                      1226 non-null   float64\n",
            " 2   Gender                                                                                                                   1243 non-null   object \n",
            " 3   City                                                                                                                     1253 non-null   object \n",
            " 4   Position                                                                                                                 1247 non-null   object \n",
            " 5   Total years of experience                                                                                                1237 non-null   object \n",
            " 6   Years of experience in Germany                                                                                           1221 non-null   object \n",
            " 7   Seniority level                                                                                                          1241 non-null   object \n",
            " 8   Your main technology / programming language                                                                              1126 non-null   object \n",
            " 9   Other technologies/programming languages you use often                                                                   1096 non-null   object \n",
            " 10  Yearly brutto salary (without bonus and stocks) in EUR                                                                   1253 non-null   float64\n",
            " 11  Yearly bonus + stocks in EUR                                                                                             829 non-null    object \n",
            " 12  Annual brutto salary (without bonus and stocks) one year ago. Only answer if staying in the same country                 885 non-null    float64\n",
            " 13  Annual bonus+stocks one year ago. Only answer if staying in same country                                                 614 non-null    object \n",
            " 14  Number of vacation days                                                                                                  1185 non-null   object \n",
            " 15  Employment status                                                                                                        1236 non-null   object \n",
            " 16  Сontract duration                                                                                                        1224 non-null   object \n",
            " 17  Main language at work                                                                                                    1237 non-null   object \n",
            " 18  Company size                                                                                                             1235 non-null   object \n",
            " 19  Company type                                                                                                             1228 non-null   object \n",
            " 20  Have you lost your job due to the coronavirus outbreak?                                                                  1233 non-null   object \n",
            " 21  Have you been forced to have a shorter working week (Kurzarbeit)? If yes, how many hours per week                        373 non-null    float64\n",
            " 22  Have you received additional monetary support from your employer due to Work From Home? If yes, how much in 2020 in EUR  462 non-null    object \n",
            "dtypes: float64(4), object(19)\n",
            "memory usage: 225.3+ KB\n"
          ]
        }
      ]
    },
    {
      "cell_type": "code",
      "source": [
        "df.shape"
      ],
      "metadata": {
        "colab": {
          "base_uri": "https://localhost:8080/"
        },
        "id": "1u1XBrWJQNXo",
        "outputId": "50baed8d-3683-4b35-8b99-185812303c55"
      },
      "execution_count": null,
      "outputs": [
        {
          "output_type": "execute_result",
          "data": {
            "text/plain": [
              "(1253, 23)"
            ]
          },
          "metadata": {},
          "execution_count": 236
        }
      ]
    },
    {
      "cell_type": "code",
      "source": [
        "df.head()"
      ],
      "metadata": {
        "id": "pgoXr19bQQPC",
        "outputId": "a3dd1fd8-2b11-4a7a-e36a-039390e20894",
        "colab": {
          "base_uri": "https://localhost:8080/",
          "height": 629
        }
      },
      "execution_count": null,
      "outputs": [
        {
          "output_type": "execute_result",
          "data": {
            "text/plain": [
              "             Timestamp   Age Gender    City           Position   \\\n",
              "0  24/11/2020 11:14:15  26.0   Male  Munich   Software Engineer   \n",
              "1  24/11/2020 11:14:16  26.0   Male  Berlin   Backend Developer   \n",
              "2  24/11/2020 11:14:21  29.0   Male  Berlin   Software Engineer   \n",
              "3  24/11/2020 11:15:24  28.0   Male  Berlin  Frontend Developer   \n",
              "4  24/11/2020 11:15:46  37.0   Male  Berlin   Backend Developer   \n",
              "\n",
              "  Total years of experience Years of experience in Germany Seniority level  \\\n",
              "0                         5                              3          Senior   \n",
              "1                         7                              4          Senior   \n",
              "2                        12                              6            Lead   \n",
              "3                         4                              1          Junior   \n",
              "4                        17                              6          Senior   \n",
              "\n",
              "  Your main technology / programming language  \\\n",
              "0                                  TypeScript   \n",
              "1                                        Ruby   \n",
              "2                     Javascript / Typescript   \n",
              "3                                  Javascript   \n",
              "4                                     C# .NET   \n",
              "\n",
              "  Other technologies/programming languages you use often  ...  \\\n",
              "0                    Kotlin, Javascript / Typescript      ...   \n",
              "1                                                NaN      ...   \n",
              "2                    Javascript / Typescript, Docker      ...   \n",
              "3                                                NaN      ...   \n",
              "4                             .NET, SQL, AWS, Docker      ...   \n",
              "\n",
              "   Annual bonus+stocks one year ago. Only answer if staying in same country  \\\n",
              "0                                              10000                          \n",
              "1                                               5000                          \n",
              "2                                             100000                          \n",
              "3                                                NaN                          \n",
              "4                                                NaN                          \n",
              "\n",
              "  Number of vacation days           Employment status   Сontract duration  \\\n",
              "0                      30          Full-time employee  Unlimited contract   \n",
              "1                      28          Full-time employee  Unlimited contract   \n",
              "2                      30  Self-employed (freelancer)  Temporary contract   \n",
              "3                      24          Full-time employee  Unlimited contract   \n",
              "4                      29          Full-time employee  Unlimited contract   \n",
              "\n",
              "  Main language at work Company size Company type  \\\n",
              "0               English       51-100      Product   \n",
              "1               English     101-1000      Product   \n",
              "2               English     101-1000      Product   \n",
              "3               English       51-100      Startup   \n",
              "4               English     101-1000      Product   \n",
              "\n",
              "  Have you lost your job due to the coronavirus outbreak?  \\\n",
              "0                                                 No        \n",
              "1                                                 No        \n",
              "2                                                Yes        \n",
              "3                                                 No        \n",
              "4                                                 No        \n",
              "\n",
              "  Have you been forced to have a shorter working week (Kurzarbeit)? If yes, how many hours per week  \\\n",
              "0                                                NaN                                                  \n",
              "1                                                NaN                                                  \n",
              "2                                                NaN                                                  \n",
              "3                                                NaN                                                  \n",
              "4                                                NaN                                                  \n",
              "\n",
              "  Have you received additional monetary support from your employer due to Work From Home? If yes, how much in 2020 in EUR  \n",
              "0                                                NaN                                                                       \n",
              "1                                                NaN                                                                       \n",
              "2                                                NaN                                                                       \n",
              "3                                                NaN                                                                       \n",
              "4                                                NaN                                                                       \n",
              "\n",
              "[5 rows x 23 columns]"
            ],
            "text/html": [
              "\n",
              "  <div id=\"df-e598aed3-7a66-4b35-825a-384622ee5e3d\">\n",
              "    <div class=\"colab-df-container\">\n",
              "      <div>\n",
              "<style scoped>\n",
              "    .dataframe tbody tr th:only-of-type {\n",
              "        vertical-align: middle;\n",
              "    }\n",
              "\n",
              "    .dataframe tbody tr th {\n",
              "        vertical-align: top;\n",
              "    }\n",
              "\n",
              "    .dataframe thead th {\n",
              "        text-align: right;\n",
              "    }\n",
              "</style>\n",
              "<table border=\"1\" class=\"dataframe\">\n",
              "  <thead>\n",
              "    <tr style=\"text-align: right;\">\n",
              "      <th></th>\n",
              "      <th>Timestamp</th>\n",
              "      <th>Age</th>\n",
              "      <th>Gender</th>\n",
              "      <th>City</th>\n",
              "      <th>Position</th>\n",
              "      <th>Total years of experience</th>\n",
              "      <th>Years of experience in Germany</th>\n",
              "      <th>Seniority level</th>\n",
              "      <th>Your main technology / programming language</th>\n",
              "      <th>Other technologies/programming languages you use often</th>\n",
              "      <th>...</th>\n",
              "      <th>Annual bonus+stocks one year ago. Only answer if staying in same country</th>\n",
              "      <th>Number of vacation days</th>\n",
              "      <th>Employment status</th>\n",
              "      <th>Сontract duration</th>\n",
              "      <th>Main language at work</th>\n",
              "      <th>Company size</th>\n",
              "      <th>Company type</th>\n",
              "      <th>Have you lost your job due to the coronavirus outbreak?</th>\n",
              "      <th>Have you been forced to have a shorter working week (Kurzarbeit)? If yes, how many hours per week</th>\n",
              "      <th>Have you received additional monetary support from your employer due to Work From Home? If yes, how much in 2020 in EUR</th>\n",
              "    </tr>\n",
              "  </thead>\n",
              "  <tbody>\n",
              "    <tr>\n",
              "      <th>0</th>\n",
              "      <td>24/11/2020 11:14:15</td>\n",
              "      <td>26.0</td>\n",
              "      <td>Male</td>\n",
              "      <td>Munich</td>\n",
              "      <td>Software Engineer</td>\n",
              "      <td>5</td>\n",
              "      <td>3</td>\n",
              "      <td>Senior</td>\n",
              "      <td>TypeScript</td>\n",
              "      <td>Kotlin, Javascript / Typescript</td>\n",
              "      <td>...</td>\n",
              "      <td>10000</td>\n",
              "      <td>30</td>\n",
              "      <td>Full-time employee</td>\n",
              "      <td>Unlimited contract</td>\n",
              "      <td>English</td>\n",
              "      <td>51-100</td>\n",
              "      <td>Product</td>\n",
              "      <td>No</td>\n",
              "      <td>NaN</td>\n",
              "      <td>NaN</td>\n",
              "    </tr>\n",
              "    <tr>\n",
              "      <th>1</th>\n",
              "      <td>24/11/2020 11:14:16</td>\n",
              "      <td>26.0</td>\n",
              "      <td>Male</td>\n",
              "      <td>Berlin</td>\n",
              "      <td>Backend Developer</td>\n",
              "      <td>7</td>\n",
              "      <td>4</td>\n",
              "      <td>Senior</td>\n",
              "      <td>Ruby</td>\n",
              "      <td>NaN</td>\n",
              "      <td>...</td>\n",
              "      <td>5000</td>\n",
              "      <td>28</td>\n",
              "      <td>Full-time employee</td>\n",
              "      <td>Unlimited contract</td>\n",
              "      <td>English</td>\n",
              "      <td>101-1000</td>\n",
              "      <td>Product</td>\n",
              "      <td>No</td>\n",
              "      <td>NaN</td>\n",
              "      <td>NaN</td>\n",
              "    </tr>\n",
              "    <tr>\n",
              "      <th>2</th>\n",
              "      <td>24/11/2020 11:14:21</td>\n",
              "      <td>29.0</td>\n",
              "      <td>Male</td>\n",
              "      <td>Berlin</td>\n",
              "      <td>Software Engineer</td>\n",
              "      <td>12</td>\n",
              "      <td>6</td>\n",
              "      <td>Lead</td>\n",
              "      <td>Javascript / Typescript</td>\n",
              "      <td>Javascript / Typescript, Docker</td>\n",
              "      <td>...</td>\n",
              "      <td>100000</td>\n",
              "      <td>30</td>\n",
              "      <td>Self-employed (freelancer)</td>\n",
              "      <td>Temporary contract</td>\n",
              "      <td>English</td>\n",
              "      <td>101-1000</td>\n",
              "      <td>Product</td>\n",
              "      <td>Yes</td>\n",
              "      <td>NaN</td>\n",
              "      <td>NaN</td>\n",
              "    </tr>\n",
              "    <tr>\n",
              "      <th>3</th>\n",
              "      <td>24/11/2020 11:15:24</td>\n",
              "      <td>28.0</td>\n",
              "      <td>Male</td>\n",
              "      <td>Berlin</td>\n",
              "      <td>Frontend Developer</td>\n",
              "      <td>4</td>\n",
              "      <td>1</td>\n",
              "      <td>Junior</td>\n",
              "      <td>Javascript</td>\n",
              "      <td>NaN</td>\n",
              "      <td>...</td>\n",
              "      <td>NaN</td>\n",
              "      <td>24</td>\n",
              "      <td>Full-time employee</td>\n",
              "      <td>Unlimited contract</td>\n",
              "      <td>English</td>\n",
              "      <td>51-100</td>\n",
              "      <td>Startup</td>\n",
              "      <td>No</td>\n",
              "      <td>NaN</td>\n",
              "      <td>NaN</td>\n",
              "    </tr>\n",
              "    <tr>\n",
              "      <th>4</th>\n",
              "      <td>24/11/2020 11:15:46</td>\n",
              "      <td>37.0</td>\n",
              "      <td>Male</td>\n",
              "      <td>Berlin</td>\n",
              "      <td>Backend Developer</td>\n",
              "      <td>17</td>\n",
              "      <td>6</td>\n",
              "      <td>Senior</td>\n",
              "      <td>C# .NET</td>\n",
              "      <td>.NET, SQL, AWS, Docker</td>\n",
              "      <td>...</td>\n",
              "      <td>NaN</td>\n",
              "      <td>29</td>\n",
              "      <td>Full-time employee</td>\n",
              "      <td>Unlimited contract</td>\n",
              "      <td>English</td>\n",
              "      <td>101-1000</td>\n",
              "      <td>Product</td>\n",
              "      <td>No</td>\n",
              "      <td>NaN</td>\n",
              "      <td>NaN</td>\n",
              "    </tr>\n",
              "  </tbody>\n",
              "</table>\n",
              "<p>5 rows × 23 columns</p>\n",
              "</div>\n",
              "      <button class=\"colab-df-convert\" onclick=\"convertToInteractive('df-e598aed3-7a66-4b35-825a-384622ee5e3d')\"\n",
              "              title=\"Convert this dataframe to an interactive table.\"\n",
              "              style=\"display:none;\">\n",
              "        \n",
              "  <svg xmlns=\"http://www.w3.org/2000/svg\" height=\"24px\"viewBox=\"0 0 24 24\"\n",
              "       width=\"24px\">\n",
              "    <path d=\"M0 0h24v24H0V0z\" fill=\"none\"/>\n",
              "    <path d=\"M18.56 5.44l.94 2.06.94-2.06 2.06-.94-2.06-.94-.94-2.06-.94 2.06-2.06.94zm-11 1L8.5 8.5l.94-2.06 2.06-.94-2.06-.94L8.5 2.5l-.94 2.06-2.06.94zm10 10l.94 2.06.94-2.06 2.06-.94-2.06-.94-.94-2.06-.94 2.06-2.06.94z\"/><path d=\"M17.41 7.96l-1.37-1.37c-.4-.4-.92-.59-1.43-.59-.52 0-1.04.2-1.43.59L10.3 9.45l-7.72 7.72c-.78.78-.78 2.05 0 2.83L4 21.41c.39.39.9.59 1.41.59.51 0 1.02-.2 1.41-.59l7.78-7.78 2.81-2.81c.8-.78.8-2.07 0-2.86zM5.41 20L4 18.59l7.72-7.72 1.47 1.35L5.41 20z\"/>\n",
              "  </svg>\n",
              "      </button>\n",
              "      \n",
              "  <style>\n",
              "    .colab-df-container {\n",
              "      display:flex;\n",
              "      flex-wrap:wrap;\n",
              "      gap: 12px;\n",
              "    }\n",
              "\n",
              "    .colab-df-convert {\n",
              "      background-color: #E8F0FE;\n",
              "      border: none;\n",
              "      border-radius: 50%;\n",
              "      cursor: pointer;\n",
              "      display: none;\n",
              "      fill: #1967D2;\n",
              "      height: 32px;\n",
              "      padding: 0 0 0 0;\n",
              "      width: 32px;\n",
              "    }\n",
              "\n",
              "    .colab-df-convert:hover {\n",
              "      background-color: #E2EBFA;\n",
              "      box-shadow: 0px 1px 2px rgba(60, 64, 67, 0.3), 0px 1px 3px 1px rgba(60, 64, 67, 0.15);\n",
              "      fill: #174EA6;\n",
              "    }\n",
              "\n",
              "    [theme=dark] .colab-df-convert {\n",
              "      background-color: #3B4455;\n",
              "      fill: #D2E3FC;\n",
              "    }\n",
              "\n",
              "    [theme=dark] .colab-df-convert:hover {\n",
              "      background-color: #434B5C;\n",
              "      box-shadow: 0px 1px 3px 1px rgba(0, 0, 0, 0.15);\n",
              "      filter: drop-shadow(0px 1px 2px rgba(0, 0, 0, 0.3));\n",
              "      fill: #FFFFFF;\n",
              "    }\n",
              "  </style>\n",
              "\n",
              "      <script>\n",
              "        const buttonEl =\n",
              "          document.querySelector('#df-e598aed3-7a66-4b35-825a-384622ee5e3d button.colab-df-convert');\n",
              "        buttonEl.style.display =\n",
              "          google.colab.kernel.accessAllowed ? 'block' : 'none';\n",
              "\n",
              "        async function convertToInteractive(key) {\n",
              "          const element = document.querySelector('#df-e598aed3-7a66-4b35-825a-384622ee5e3d');\n",
              "          const dataTable =\n",
              "            await google.colab.kernel.invokeFunction('convertToInteractive',\n",
              "                                                     [key], {});\n",
              "          if (!dataTable) return;\n",
              "\n",
              "          const docLinkHtml = 'Like what you see? Visit the ' +\n",
              "            '<a target=\"_blank\" href=https://colab.research.google.com/notebooks/data_table.ipynb>data table notebook</a>'\n",
              "            + ' to learn more about interactive tables.';\n",
              "          element.innerHTML = '';\n",
              "          dataTable['output_type'] = 'display_data';\n",
              "          await google.colab.output.renderOutput(dataTable, element);\n",
              "          const docLink = document.createElement('div');\n",
              "          docLink.innerHTML = docLinkHtml;\n",
              "          element.appendChild(docLink);\n",
              "        }\n",
              "      </script>\n",
              "    </div>\n",
              "  </div>\n",
              "  "
            ]
          },
          "metadata": {},
          "execution_count": 237
        }
      ]
    },
    {
      "cell_type": "code",
      "source": [
        "# dorp unuseful columns:\n",
        "\n",
        "df = df.drop(columns = ['Annual bonus+stocks one year ago. Only answer if staying in same country',\n",
        "                        'Have you lost your job due to the coronavirus outbreak?', \n",
        "                        'Have you been forced to have a shorter working week (Kurzarbeit)? If yes, how many hours per week',\n",
        "                        'Have you received additional monetary support from your employer due to Work From Home? If yes, how much in 2020 in EUR',\n",
        "                        'Timestamp','Years of experience in Germany',\n",
        "                        'Annual brutto salary (without bonus and stocks) one year ago. Only answer if staying in the same country',\n",
        "                        'Annual bonus+stocks one year ago. Only answer if staying in same country','Yearly bonus + stocks in EUR',\n",
        "                        'Other technologies/programming languages you use often','Main language at work',\n",
        "                        'Seniority level','Сontract duration'])\n",
        "# rename columns:\n",
        "\n",
        "df.rename(columns = {'Your main technology / programming language': 'Main technology', 'Position ': 'Position', \n",
        "                     'Yearly brutto salary (without bonus and stocks) in EUR': 'salary', 'Number of vacation days': 'VacationDays', \n",
        "                     'Yearly bonus + stocks in EUR':'Yearly bonus',\n",
        "                     'Total years of experience': 'experience' }, inplace = True)"
      ],
      "metadata": {
        "id": "pqvGL8T5RVEy"
      },
      "execution_count": null,
      "outputs": []
    },
    {
      "cell_type": "code",
      "source": [
        "df.head()\n"
      ],
      "metadata": {
        "id": "-Ke-qVwJRpmz",
        "colab": {
          "base_uri": "https://localhost:8080/",
          "height": 337
        },
        "outputId": "8aa9bf1a-f6d2-4419-ec03-5e84324a8581"
      },
      "execution_count": null,
      "outputs": [
        {
          "output_type": "execute_result",
          "data": {
            "text/plain": [
              "    Age Gender    City            Position experience  \\\n",
              "0  26.0   Male  Munich   Software Engineer          5   \n",
              "1  26.0   Male  Berlin   Backend Developer          7   \n",
              "2  29.0   Male  Berlin   Software Engineer         12   \n",
              "3  28.0   Male  Berlin  Frontend Developer          4   \n",
              "4  37.0   Male  Berlin   Backend Developer         17   \n",
              "\n",
              "           Main technology    salary VacationDays           Employment status  \\\n",
              "0               TypeScript   80000.0           30          Full-time employee   \n",
              "1                     Ruby   80000.0           28          Full-time employee   \n",
              "2  Javascript / Typescript  120000.0           30  Self-employed (freelancer)   \n",
              "3               Javascript   54000.0           24          Full-time employee   \n",
              "4                  C# .NET   62000.0           29          Full-time employee   \n",
              "\n",
              "  Company size Company type  \n",
              "0       51-100      Product  \n",
              "1     101-1000      Product  \n",
              "2     101-1000      Product  \n",
              "3       51-100      Startup  \n",
              "4     101-1000      Product  "
            ],
            "text/html": [
              "\n",
              "  <div id=\"df-36908185-d304-48d7-81a2-61530f8cb370\">\n",
              "    <div class=\"colab-df-container\">\n",
              "      <div>\n",
              "<style scoped>\n",
              "    .dataframe tbody tr th:only-of-type {\n",
              "        vertical-align: middle;\n",
              "    }\n",
              "\n",
              "    .dataframe tbody tr th {\n",
              "        vertical-align: top;\n",
              "    }\n",
              "\n",
              "    .dataframe thead th {\n",
              "        text-align: right;\n",
              "    }\n",
              "</style>\n",
              "<table border=\"1\" class=\"dataframe\">\n",
              "  <thead>\n",
              "    <tr style=\"text-align: right;\">\n",
              "      <th></th>\n",
              "      <th>Age</th>\n",
              "      <th>Gender</th>\n",
              "      <th>City</th>\n",
              "      <th>Position</th>\n",
              "      <th>experience</th>\n",
              "      <th>Main technology</th>\n",
              "      <th>salary</th>\n",
              "      <th>VacationDays</th>\n",
              "      <th>Employment status</th>\n",
              "      <th>Company size</th>\n",
              "      <th>Company type</th>\n",
              "    </tr>\n",
              "  </thead>\n",
              "  <tbody>\n",
              "    <tr>\n",
              "      <th>0</th>\n",
              "      <td>26.0</td>\n",
              "      <td>Male</td>\n",
              "      <td>Munich</td>\n",
              "      <td>Software Engineer</td>\n",
              "      <td>5</td>\n",
              "      <td>TypeScript</td>\n",
              "      <td>80000.0</td>\n",
              "      <td>30</td>\n",
              "      <td>Full-time employee</td>\n",
              "      <td>51-100</td>\n",
              "      <td>Product</td>\n",
              "    </tr>\n",
              "    <tr>\n",
              "      <th>1</th>\n",
              "      <td>26.0</td>\n",
              "      <td>Male</td>\n",
              "      <td>Berlin</td>\n",
              "      <td>Backend Developer</td>\n",
              "      <td>7</td>\n",
              "      <td>Ruby</td>\n",
              "      <td>80000.0</td>\n",
              "      <td>28</td>\n",
              "      <td>Full-time employee</td>\n",
              "      <td>101-1000</td>\n",
              "      <td>Product</td>\n",
              "    </tr>\n",
              "    <tr>\n",
              "      <th>2</th>\n",
              "      <td>29.0</td>\n",
              "      <td>Male</td>\n",
              "      <td>Berlin</td>\n",
              "      <td>Software Engineer</td>\n",
              "      <td>12</td>\n",
              "      <td>Javascript / Typescript</td>\n",
              "      <td>120000.0</td>\n",
              "      <td>30</td>\n",
              "      <td>Self-employed (freelancer)</td>\n",
              "      <td>101-1000</td>\n",
              "      <td>Product</td>\n",
              "    </tr>\n",
              "    <tr>\n",
              "      <th>3</th>\n",
              "      <td>28.0</td>\n",
              "      <td>Male</td>\n",
              "      <td>Berlin</td>\n",
              "      <td>Frontend Developer</td>\n",
              "      <td>4</td>\n",
              "      <td>Javascript</td>\n",
              "      <td>54000.0</td>\n",
              "      <td>24</td>\n",
              "      <td>Full-time employee</td>\n",
              "      <td>51-100</td>\n",
              "      <td>Startup</td>\n",
              "    </tr>\n",
              "    <tr>\n",
              "      <th>4</th>\n",
              "      <td>37.0</td>\n",
              "      <td>Male</td>\n",
              "      <td>Berlin</td>\n",
              "      <td>Backend Developer</td>\n",
              "      <td>17</td>\n",
              "      <td>C# .NET</td>\n",
              "      <td>62000.0</td>\n",
              "      <td>29</td>\n",
              "      <td>Full-time employee</td>\n",
              "      <td>101-1000</td>\n",
              "      <td>Product</td>\n",
              "    </tr>\n",
              "  </tbody>\n",
              "</table>\n",
              "</div>\n",
              "      <button class=\"colab-df-convert\" onclick=\"convertToInteractive('df-36908185-d304-48d7-81a2-61530f8cb370')\"\n",
              "              title=\"Convert this dataframe to an interactive table.\"\n",
              "              style=\"display:none;\">\n",
              "        \n",
              "  <svg xmlns=\"http://www.w3.org/2000/svg\" height=\"24px\"viewBox=\"0 0 24 24\"\n",
              "       width=\"24px\">\n",
              "    <path d=\"M0 0h24v24H0V0z\" fill=\"none\"/>\n",
              "    <path d=\"M18.56 5.44l.94 2.06.94-2.06 2.06-.94-2.06-.94-.94-2.06-.94 2.06-2.06.94zm-11 1L8.5 8.5l.94-2.06 2.06-.94-2.06-.94L8.5 2.5l-.94 2.06-2.06.94zm10 10l.94 2.06.94-2.06 2.06-.94-2.06-.94-.94-2.06-.94 2.06-2.06.94z\"/><path d=\"M17.41 7.96l-1.37-1.37c-.4-.4-.92-.59-1.43-.59-.52 0-1.04.2-1.43.59L10.3 9.45l-7.72 7.72c-.78.78-.78 2.05 0 2.83L4 21.41c.39.39.9.59 1.41.59.51 0 1.02-.2 1.41-.59l7.78-7.78 2.81-2.81c.8-.78.8-2.07 0-2.86zM5.41 20L4 18.59l7.72-7.72 1.47 1.35L5.41 20z\"/>\n",
              "  </svg>\n",
              "      </button>\n",
              "      \n",
              "  <style>\n",
              "    .colab-df-container {\n",
              "      display:flex;\n",
              "      flex-wrap:wrap;\n",
              "      gap: 12px;\n",
              "    }\n",
              "\n",
              "    .colab-df-convert {\n",
              "      background-color: #E8F0FE;\n",
              "      border: none;\n",
              "      border-radius: 50%;\n",
              "      cursor: pointer;\n",
              "      display: none;\n",
              "      fill: #1967D2;\n",
              "      height: 32px;\n",
              "      padding: 0 0 0 0;\n",
              "      width: 32px;\n",
              "    }\n",
              "\n",
              "    .colab-df-convert:hover {\n",
              "      background-color: #E2EBFA;\n",
              "      box-shadow: 0px 1px 2px rgba(60, 64, 67, 0.3), 0px 1px 3px 1px rgba(60, 64, 67, 0.15);\n",
              "      fill: #174EA6;\n",
              "    }\n",
              "\n",
              "    [theme=dark] .colab-df-convert {\n",
              "      background-color: #3B4455;\n",
              "      fill: #D2E3FC;\n",
              "    }\n",
              "\n",
              "    [theme=dark] .colab-df-convert:hover {\n",
              "      background-color: #434B5C;\n",
              "      box-shadow: 0px 1px 3px 1px rgba(0, 0, 0, 0.15);\n",
              "      filter: drop-shadow(0px 1px 2px rgba(0, 0, 0, 0.3));\n",
              "      fill: #FFFFFF;\n",
              "    }\n",
              "  </style>\n",
              "\n",
              "      <script>\n",
              "        const buttonEl =\n",
              "          document.querySelector('#df-36908185-d304-48d7-81a2-61530f8cb370 button.colab-df-convert');\n",
              "        buttonEl.style.display =\n",
              "          google.colab.kernel.accessAllowed ? 'block' : 'none';\n",
              "\n",
              "        async function convertToInteractive(key) {\n",
              "          const element = document.querySelector('#df-36908185-d304-48d7-81a2-61530f8cb370');\n",
              "          const dataTable =\n",
              "            await google.colab.kernel.invokeFunction('convertToInteractive',\n",
              "                                                     [key], {});\n",
              "          if (!dataTable) return;\n",
              "\n",
              "          const docLinkHtml = 'Like what you see? Visit the ' +\n",
              "            '<a target=\"_blank\" href=https://colab.research.google.com/notebooks/data_table.ipynb>data table notebook</a>'\n",
              "            + ' to learn more about interactive tables.';\n",
              "          element.innerHTML = '';\n",
              "          dataTable['output_type'] = 'display_data';\n",
              "          await google.colab.output.renderOutput(dataTable, element);\n",
              "          const docLink = document.createElement('div');\n",
              "          docLink.innerHTML = docLinkHtml;\n",
              "          element.appendChild(docLink);\n",
              "        }\n",
              "      </script>\n",
              "    </div>\n",
              "  </div>\n",
              "  "
            ]
          },
          "metadata": {},
          "execution_count": 239
        }
      ]
    },
    {
      "cell_type": "code",
      "source": [
        "df['salary'] = df['salary'].astype(int)\n",
        "\n",
        "# Inspect age column\n",
        "df.Age.hist()\n",
        "plt.show()\n",
        "\n",
        "# converting the datatype of age to int\n",
        "df['Age'] = df['Age'].fillna(0).astype(int)\n",
        "print(f'Number of null values: {df.Age.isnull().sum()}')\n",
        "print(df.Age.describe())\n",
        "# replace the null age values with mode \n",
        "print(df.Age.fillna(df.Age.mode()))\n"
      ],
      "metadata": {
        "colab": {
          "base_uri": "https://localhost:8080/",
          "height": 647
        },
        "id": "egho99gyR_dR",
        "outputId": "ed9daf5d-1670-4c45-ce71-c24422344970"
      },
      "execution_count": null,
      "outputs": [
        {
          "output_type": "display_data",
          "data": {
            "text/plain": [
              "<Figure size 432x288 with 1 Axes>"
            ],
            "image/png": "[encoded data removed]"
          },
          "metadata": {}
        },
        {
          "output_type": "stream",
          "name": "stdout",
          "text": [
            "Number of null values: 0\n",
            "count    1253.000000\n",
            "mean       31.809258\n",
            "std         7.327212\n",
            "min         0.000000\n",
            "25%        28.000000\n",
            "50%        32.000000\n",
            "75%        35.000000\n",
            "max        69.000000\n",
            "Name: Age, dtype: float64\n",
            "0       26\n",
            "1       26\n",
            "2       29\n",
            "3       28\n",
            "4       37\n",
            "        ..\n",
            "1248    31\n",
            "1249    33\n",
            "1250    39\n",
            "1251    26\n",
            "1252    26\n",
            "Name: Age, Length: 1253, dtype: int64\n"
          ]
        }
      ]
    },
    {
      "cell_type": "code",
      "source": [
        "df['Company size'].isna().sum()\n",
        "df = df[df['Company size'].notna()]\n",
        "df['Company size'].unique()"
      ],
      "metadata": {
        "colab": {
          "base_uri": "https://localhost:8080/"
        },
        "id": "_rVevo-GSUpY",
        "outputId": "5235f436-6314-4b1e-9570-18a36aad4892"
      },
      "execution_count": null,
      "outputs": [
        {
          "output_type": "execute_result",
          "data": {
            "text/plain": [
              "array(['51-100', '101-1000', '11-50', '1000+', 'up to 10'], dtype=object)"
            ]
          },
          "metadata": {},
          "execution_count": 241
        }
      ]
    },
    {
      "cell_type": "code",
      "source": [
        "# Standard deviation is high, and there are only 16 na values\n",
        "# Drop missing values instead of using average\n",
        "print(f'Number of Null values: {df.experience.isna().sum()}')\n",
        "df = df[~df.experience.isna()].reset_index(drop=True)\n",
        "df['experience'] = pd.to_numeric(df['experience'], errors = 'coerce').fillna(0).astype(int)\n",
        "df.experience.describe()"
      ],
      "metadata": {
        "colab": {
          "base_uri": "https://localhost:8080/"
        },
        "id": "WqJuy2E-UAhA",
        "outputId": "5c2e4a20-4b89-48ac-84a6-e86c7c64af5c"
      },
      "execution_count": null,
      "outputs": [
        {
          "output_type": "stream",
          "name": "stdout",
          "text": [
            "Number of Null values: 9\n"
          ]
        },
        {
          "output_type": "execute_result",
          "data": {
            "text/plain": [
              "count    1226.000000\n",
              "mean        9.036705\n",
              "std        11.929841\n",
              "min         0.000000\n",
              "25%         5.000000\n",
              "50%         8.000000\n",
              "75%        12.000000\n",
              "max       383.000000\n",
              "Name: experience, dtype: float64"
            ]
          },
          "metadata": {},
          "execution_count": 242
        }
      ]
    },
    {
      "cell_type": "code",
      "source": [
        "# the distribution of the values:\n",
        "fig = plt.figure(figsize= (15, 8))\n",
        "plt.title('The distribution of the values:', fontsize= 16)\n",
        "axs = fig.subplots(nrows=2, ncols= 1)\n",
        "sns.boxplot(data = df, x= 'Age', ax=axs[0])\n",
        "sns.boxplot(data = df, x= 'salary',ax = axs[1])\n",
        "plt.show()"
      ],
      "metadata": {
        "colab": {
          "base_uri": "https://localhost:8080/",
          "height": 515
        },
        "id": "A48Qh_ERUUXv",
        "outputId": "3ff3ca0b-113c-4c03-f17f-181e73f20268"
      },
      "execution_count": null,
      "outputs": [
        {
          "output_type": "display_data",
          "data": {
            "text/plain": [
              "<Figure size 1080x576 with 3 Axes>"
            ],
            "image/png": "[encoded data removed]"
          },
          "metadata": {}
        }
      ]
    },
    {
      "cell_type": "code",
      "source": [
        "# As we can see there are extreme salary outliers so we will drop them\n",
        "df['salary'].sort_values()"
      ],
      "metadata": {
        "colab": {
          "base_uri": "https://localhost:8080/"
        },
        "id": "NRSmb4B0VRtZ",
        "outputId": "ecc2b50a-fb70-4482-97f4-d7975fa75191"
      },
      "execution_count": null,
      "outputs": [
        {
          "output_type": "execute_result",
          "data": {
            "text/plain": [
              "961         10001\n",
              "863         10001\n",
              "360         10164\n",
              "1112        11500\n",
              "665         12000\n",
              "          ...    \n",
              "787        240000\n",
              "616        250000\n",
              "562        300000\n",
              "761        850000\n",
              "834     500000000\n",
              "Name: salary, Length: 1226, dtype: int64"
            ]
          },
          "metadata": {},
          "execution_count": 244
        }
      ]
    },
    {
      "cell_type": "code",
      "source": [
        "df = df.drop(index = [834,761])"
      ],
      "metadata": {
        "id": "zc16pLKSWPKJ"
      },
      "execution_count": null,
      "outputs": []
    },
    {
      "cell_type": "code",
      "source": [
        "df['Age'].sort_values()"
      ],
      "metadata": {
        "id": "PAuneTiAZTAR",
        "colab": {
          "base_uri": "https://localhost:8080/"
        },
        "outputId": "1852af92-7f0c-4042-d0b5-814f7d14180b"
      },
      "execution_count": null,
      "outputs": [
        {
          "output_type": "execute_result",
          "data": {
            "text/plain": [
              "884      0\n",
              "1040     0\n",
              "326      0\n",
              "27       0\n",
              "940      0\n",
              "        ..\n",
              "1136    56\n",
              "22      59\n",
              "292     65\n",
              "57      66\n",
              "1080    69\n",
              "Name: Age, Length: 1224, dtype: int64"
            ]
          },
          "metadata": {},
          "execution_count": 246
        }
      ]
    },
    {
      "cell_type": "code",
      "source": [
        "# the distribution of the values after excluding the outliers:\n",
        "\n",
        "df= df[df['Age'] != 0]\n",
        "fig = plt.figure(figsize= (15, 8))\n",
        "plt.title('The distribution of the values after excluding the outliers:', fontsize= 16)\n",
        "axs = fig.subplots(nrows=2, ncols= 1)\n",
        "sns.boxplot(data = df, x= 'Age', ax = axs[0])\n",
        "sns.boxplot(data = df, x= 'salary',ax = axs[1])\n",
        "plt.show()\n",
        "print(df['Age'].sort_values())"
      ],
      "metadata": {
        "colab": {
          "base_uri": "https://localhost:8080/",
          "height": 723
        },
        "id": "GI2gBa6vZprj",
        "outputId": "8be42ae0-8eaf-440e-c6a1-5e742033a644"
      },
      "execution_count": null,
      "outputs": [
        {
          "output_type": "display_data",
          "data": {
            "text/plain": [
              "<Figure size 1080x576 with 3 Axes>"
            ],
            "image/png": "[encoded data removed]"
          },
          "metadata": {}
        },
        {
          "output_type": "stream",
          "name": "stdout",
          "text": [
            "787     20\n",
            "961     22\n",
            "711     22\n",
            "345     22\n",
            "1076    22\n",
            "        ..\n",
            "1136    56\n",
            "22      59\n",
            "292     65\n",
            "57      66\n",
            "1080    69\n",
            "Name: Age, Length: 1207, dtype: int64\n"
          ]
        }
      ]
    },
    {
      "cell_type": "markdown",
      "source": [
        "# **Univariate Plotting**"
      ],
      "metadata": {
        "id": "E_pXcGoEd6NP"
      }
    },
    {
      "cell_type": "code",
      "source": [
        "df.experience.hist(bins=100).set_xlim((0,40))"
      ],
      "metadata": {
        "colab": {
          "base_uri": "https://localhost:8080/",
          "height": 282
        },
        "id": "9yEy8aSud_um",
        "outputId": "c931e3ea-757d-462d-9a84-fb1b97c580d6"
      },
      "execution_count": null,
      "outputs": [
        {
          "output_type": "execute_result",
          "data": {
            "text/plain": [
              "(0.0, 40.0)"
            ]
          },
          "metadata": {},
          "execution_count": 248
        },
        {
          "output_type": "display_data",
          "data": {
            "text/plain": [
              "<Figure size 432x288 with 1 Axes>"
            ],
            "image/png": "[encoded data removed]"
          },
          "metadata": {}
        }
      ]
    },
    {
      "cell_type": "markdown",
      "source": [
        "As we can see from the above plot we have set the limits for x axis from 0 to 40 to better visualize the data. The companies might have more employees whose experience is between 5 to 10.\n"
      ],
      "metadata": {
        "id": "NVSl5kMDicG1"
      }
    },
    {
      "cell_type": "code",
      "source": [
        "# the relationship between the company type and the other features:\n",
        "company = df.loc[df['Company type'].isin(['Product', 'Startup', 'Consulting / Agency'])]\n",
        "company_type = company.groupby('Company type', as_index= False).mean()\n",
        "\n",
        "fig = plt.figure(figsize= (16, 8))\n",
        "axs = fig.subplots(nrows=1, ncols= 2)\n",
        "sns.barplot(data = company_type, x= 'Company type', y = 'salary', ax = axs[0], palette= 'magma')\n",
        "sns.barplot(data = company_type, x= 'Company type', y = 'experience', ax = axs[1], palette = 'viridis')\n",
        "plt.show()"
      ],
      "metadata": {
        "colab": {
          "base_uri": "https://localhost:8080/",
          "height": 497
        },
        "id": "P7BzS7FShovf",
        "outputId": "3f748828-2528-4a69-b77d-bb2f44e21dd0"
      },
      "execution_count": null,
      "outputs": [
        {
          "output_type": "display_data",
          "data": {
            "text/plain": [
              "<Figure size 1152x576 with 2 Axes>"
            ],
            "image/png": "[encoded data removed]"
          },
          "metadata": {}
        }
      ]
    },
    {
      "cell_type": "markdown",
      "source": [
        "The 'Consulting/Agency' companies require higher years of experience and pay the lowest salary."
      ],
      "metadata": {
        "id": "Y1t-856GfX1B"
      }
    },
    {
      "cell_type": "markdown",
      "source": [
        "# **Bivariate Plotting**"
      ],
      "metadata": {
        "id": "CPM686-jvZSD"
      }
    },
    {
      "cell_type": "code",
      "source": [
        "# the Average salary for each age\n",
        "\n",
        "age_salary = df.groupby('Age', as_index = False).median()\n",
        "plt.figure(figsize=(18, 6))\n",
        "sns.barplot(data= age_salary, x= 'Age', y= 'salary',palette= 'flare')\n",
        "plt.title('Salary for each age:', fontsize= 16)\n",
        "plt.xlabel('Age', fontsize= 14)\n",
        "plt.ylabel('Yearly Salary', fontsize = 14)\n",
        "plt.xticks(fontsize= 12)\n",
        "plt.show()"
      ],
      "metadata": {
        "colab": {
          "base_uri": "https://localhost:8080/",
          "height": 413
        },
        "id": "HWIfSs-zaweF",
        "outputId": "d6888402-3fe3-46f0-bf3f-8743da038f03"
      },
      "execution_count": null,
      "outputs": [
        {
          "output_type": "display_data",
          "data": {
            "text/plain": [
              "<Figure size 1296x432 with 1 Axes>"
            ],
            "image/png": "[encoded data removed]"
          },
          "metadata": {}
        }
      ]
    },
    {
      "cell_type": "markdown",
      "source": [
        "Here, we have calculated the salary of each age group present in the dataset and as we can see the average salary for age group 20 is maximum than the rest of the age groups."
      ],
      "metadata": {
        "id": "qkuumXY6sDg7"
      }
    },
    {
      "cell_type": "code",
      "source": [
        "sns.barplot(data=df, x=\"experience\", y=\"Company size\", hue=\"Gender\",ci=None)"
      ],
      "metadata": {
        "colab": {
          "base_uri": "https://localhost:8080/",
          "height": 296
        },
        "id": "bwJbQupHbFSs",
        "outputId": "f69c53c0-b23a-4523-9fd0-801cb3d4b8a5"
      },
      "execution_count": null,
      "outputs": [
        {
          "output_type": "execute_result",
          "data": {
            "text/plain": [
              "<matplotlib.axes._subplots.AxesSubplot at 0x7f73d1fefd50>"
            ]
          },
          "metadata": {},
          "execution_count": 251
        },
        {
          "output_type": "display_data",
          "data": {
            "text/plain": [
              "<Figure size 432x288 with 1 Axes>"
            ],
            "image/png": "[encoded data removed]"
          },
          "metadata": {}
        }
      ]
    },
    {
      "cell_type": "markdown",
      "source": [
        "From the above chart we can say that, there is a diversity in the gender when the company size is large. Also, all the companies required higher years of experience for males as compared to females."
      ],
      "metadata": {
        "id": "LqRbTGI4rwBM"
      }
    },
    {
      "cell_type": "code",
      "source": [
        "sns.barplot(data=df, x=\"salary\", y=\"Company size\", hue=\"Gender\",ci=None)"
      ],
      "metadata": {
        "colab": {
          "base_uri": "https://localhost:8080/",
          "height": 296
        },
        "id": "TZSgnF39rzyp",
        "outputId": "776545f6-10a7-4741-e845-1513b9defcb4"
      },
      "execution_count": null,
      "outputs": [
        {
          "output_type": "execute_result",
          "data": {
            "text/plain": [
              "<matplotlib.axes._subplots.AxesSubplot at 0x7f73d1d8b310>"
            ]
          },
          "metadata": {},
          "execution_count": 252
        },
        {
          "output_type": "display_data",
          "data": {
            "text/plain": [
              "<Figure size 432x288 with 1 Axes>"
            ],
            "image/png": "[encoded data removed]"
          },
          "metadata": {}
        }
      ]
    },
    {
      "cell_type": "markdown",
      "source": [
        "From the above chart we can say that, in general except for when the company size is large, the salary for males is higher as compared to female. And for the large company, salary for \"Diverse\" gender is the highest"
      ],
      "metadata": {
        "id": "Pe1sFtDZsMPa"
      }
    },
    {
      "cell_type": "code",
      "source": [
        "# The top 10 cities pay the higher salary:\n",
        "\n",
        "salary_city = df.groupby('City', as_index= False).mean().sort_values('salary', ascending = False) # sort cities according to the salary\n",
        "salary_city\n",
        "\n",
        "salary_city = salary_city.head(10)\n",
        "plt.figure(figsize = (16,6))\n",
        "ax = sns.barplot(data= salary_city, x= 'City', y= 'salary',palette= 'magma')\n",
        "plt.title('The top 10 cities pay higher salary', fontsize= 16)\n",
        "plt.xlabel('City', fontsize = 14)\n",
        "plt.ylabel('Average yearly salary', fontsize= 14)\n",
        "plt.xticks(fontsize= 12, rotation= 90)\n",
        "plt.yticks(fontsize = 12)\n",
        "plt.show()"
      ],
      "metadata": {
        "colab": {
          "base_uri": "https://localhost:8080/",
          "height": 513
        },
        "id": "23o4shl2by3Q",
        "outputId": "483521b9-1b8d-4d4c-86e2-4ad1e2c30bc8"
      },
      "execution_count": null,
      "outputs": [
        {
          "output_type": "display_data",
          "data": {
            "text/plain": [
              "<Figure size 1152x432 with 1 Axes>"
            ],
            "image/png": "[encoded data removed]"
          },
          "metadata": {}
        }
      ]
    },
    {
      "cell_type": "markdown",
      "source": [
        "From the above barplot we can infere that Cupertino city might be best for IT developers in terms of salary"
      ],
      "metadata": {
        "id": "HZ7WLU98tj5-"
      }
    },
    {
      "cell_type": "code",
      "source": [
        "df['experience'].sort_values()\n",
        "df = df.drop(index = [1080])\n",
        "sns.jointplot(data=df, x=\"experience\", y=\"salary\")\n"
      ],
      "metadata": {
        "id": "CPvkOHNQxFa9",
        "colab": {
          "base_uri": "https://localhost:8080/",
          "height": 458
        },
        "outputId": "d184fe58-4e18-4747-b1ee-9e0badc4bfec"
      },
      "execution_count": null,
      "outputs": [
        {
          "output_type": "execute_result",
          "data": {
            "text/plain": [
              "<seaborn.axisgrid.JointGrid at 0x7f73d1ce0d90>"
            ]
          },
          "metadata": {},
          "execution_count": 254
        },
        {
          "output_type": "display_data",
          "data": {
            "text/plain": [
              "<Figure size 432x432 with 3 Axes>"
            ],
            "image/png": "[encoded data removed]"
          },
          "metadata": {}
        }
      ]
    },
    {
      "cell_type": "markdown",
      "source": [
        "From the above chart we can say that the salary increases as experience increases and it keeps increasing until 10 years of experience and then we can see a slight decline as experience increases further"
      ],
      "metadata": {
        "id": "mBkJ5qZkq90E"
      }
    },
    {
      "cell_type": "code",
      "source": [],
      "metadata": {
        "id": "vTj8LWyctj5E"
      },
      "execution_count": null,
      "outputs": []
    }
  ]
}